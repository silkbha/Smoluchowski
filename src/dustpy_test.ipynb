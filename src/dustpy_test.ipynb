{
 "cells": [
  {
   "cell_type": "code",
   "execution_count": 12,
   "metadata": {},
   "outputs": [],
   "source": [
    "import numpy as np\n",
    "# import dustpy as dp\n",
    "from dustpy import Simulation\n",
    "from matplotlib import pyplot as plt\n",
    "\n",
    "# create simulation\n",
    "sim = Simulation()"
   ]
  },
  {
   "cell_type": "code",
   "execution_count": 13,
   "metadata": {},
   "outputs": [
    {
     "data": {
      "text/plain": [
       "namespace(Nmbpd=100,\n",
       "          mmin=1e-12,\n",
       "          mmax=100000.0,\n",
       "          Nr=0,\n",
       "          rmin=14959787070000.0,\n",
       "          rmax=1.495978707e+16)"
      ]
     },
     "execution_count": 13,
     "metadata": {},
     "output_type": "execute_result"
    }
   ],
   "source": [
    "# Change grid params\n",
    "sim.ini.grid.Nmbpd = 100\n",
    "sim.ini.grid.Nr = 0\n",
    "sim.ini.grid"
   ]
  },
  {
   "cell_type": "code",
   "execution_count": 14,
   "metadata": {},
   "outputs": [
    {
     "data": {
      "text/plain": [
       "namespace(aIniMax=0.0001,\n",
       "          allowDriftingParticles=False,\n",
       "          erosionMassRatio=10.0,\n",
       "          d2gRatio=0.01,\n",
       "          distExp=-3.5,\n",
       "          excavatedMass=1.0,\n",
       "          fragmentDistribution=-1.8333333333333333,\n",
       "          rhoMonomer=1.67,\n",
       "          vfrag=100.0)"
      ]
     },
     "execution_count": 14,
     "metadata": {},
     "output_type": "execute_result"
    }
   ],
   "source": [
    "# Change dust params\n",
    "\n",
    "sim.ini.dust"
   ]
  }
 ],
 "metadata": {
  "kernelspec": {
   "display_name": "mlenv",
   "language": "python",
   "name": "python3"
  },
  "language_info": {
   "codemirror_mode": {
    "name": "ipython",
    "version": 3
   },
   "file_extension": ".py",
   "mimetype": "text/x-python",
   "name": "python",
   "nbconvert_exporter": "python",
   "pygments_lexer": "ipython3",
   "version": "3.11.5"
  }
 },
 "nbformat": 4,
 "nbformat_minor": 2
}
