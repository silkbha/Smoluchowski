{
 "cells": [
  {
   "cell_type": "code",
   "execution_count": 10,
   "metadata": {},
   "outputs": [
    {
     "data": {
      "text/plain": [
       "namespace(dust=namespace(aIniMax=0.0001,\n",
       "                         allowDriftingParticles=False,\n",
       "                         erosionMassRatio=10.0,\n",
       "                         d2gRatio=0.01,\n",
       "                         distExp=-3.5,\n",
       "                         excavatedMass=1.0,\n",
       "                         fragmentDistribution=-1.8333333333333333,\n",
       "                         rhoMonomer=1.67,\n",
       "                         vfrag=100.0),\n",
       "          gas=namespace(alpha=0.001,\n",
       "                        gamma=1.4,\n",
       "                        Mdisk=9.942049353490256e+31,\n",
       "                        mu=3.847030424486999e-24,\n",
       "                        SigmaExp=-1.0,\n",
       "                        SigmaRc=897587224200000.0),\n",
       "          grid=namespace(Nmbpd=7,\n",
       "                         mmin=1e-12,\n",
       "                         mmax=100000.0,\n",
       "                         Nr=100,\n",
       "                         rmin=14959787070000.0,\n",
       "                         rmax=1.495978707e+16),\n",
       "          star=namespace(M=1.988409870698051e+33, R=139140000000.0, T=5772.0))"
      ]
     },
     "execution_count": 10,
     "metadata": {},
     "output_type": "execute_result"
    }
   ],
   "source": [
    "import numpy as np\n",
    "# import dustpy as dp\n",
    "from dustpy import Simulation\n",
    "from dustpy import constants as c\n",
    "from matplotlib import pyplot as plt\n",
    "\n",
    "# create simulation\n",
    "sim = Simulation()\n",
    "sim.ini"
   ]
  },
  {
   "cell_type": "code",
   "execution_count": 11,
   "metadata": {},
   "outputs": [
    {
     "data": {
      "text/plain": [
       "namespace(dust=namespace(aIniMax=0.0001,\n",
       "                         allowDriftingParticles=False,\n",
       "                         erosionMassRatio=10.0,\n",
       "                         d2gRatio=0.01,\n",
       "                         distExp=-3.5,\n",
       "                         excavatedMass=1.0,\n",
       "                         fragmentDistribution=-1.8333333333333333,\n",
       "                         rhoMonomer=1.67,\n",
       "                         vfrag=100.0),\n",
       "          gas=namespace(alpha=0.001,\n",
       "                        gamma=1.4,\n",
       "                        Mdisk=9.942049353490256e+31,\n",
       "                        mu=3.847030424486999e-24,\n",
       "                        SigmaExp=-1.0,\n",
       "                        SigmaRc=897587224200000.0),\n",
       "          grid=namespace(Nmbpd=100,\n",
       "                         mmin=1e-12,\n",
       "                         mmax=100000.0,\n",
       "                         Nr=0,\n",
       "                         rmin=14959787070000.0,\n",
       "                         rmax=1.495978707e+16),\n",
       "          star=namespace(M=1.988409870698051e+33, R=139140000000.0, T=5772.0))"
      ]
     },
     "execution_count": 11,
     "metadata": {},
     "output_type": "execute_result"
    }
   ],
   "source": [
    "# Change ini params\n",
    "\n",
    "# ini.dust\n",
    "\n",
    "# ini.gas\n",
    "\n",
    "# ini.grid\n",
    "sim.ini.grid.Nmbpd = 100\n",
    "sim.ini.grid.Nr = 0\n",
    "\n",
    "sim.ini"
   ]
  },
  {
   "cell_type": "code",
   "execution_count": null,
   "metadata": {},
   "outputs": [],
   "source": [
    "# Ch"
   ]
  },
  {
   "cell_type": "code",
   "execution_count": 8,
   "metadata": {},
   "outputs": [
    {
     "data": {
      "text/plain": [
       "Group (Dust quantities)\n",
       "-----------------------\n",
       "    backreaction : Group (Backreaction coefficients)\n",
       "    boundary     : Group (Boundary conditions)\n",
       "    coagulation  : Group (Coagulation quantities)\n",
       "    delta        : Group (Mixing parameters)\n",
       "    Fi           : Group (Fluxes)\n",
       "    p            : Group (Probabilities)\n",
       "    S            : Group (Sources)\n",
       "    v            : Group (Velocities)\n",
       "  -----\n",
       "    a            : NoneType\n",
       "    D            : NoneType\n",
       "    eps          : NoneType\n",
       "    fill         : NoneType\n",
       "    H            : NoneType\n",
       "    kernel       : NoneType\n",
       "    rho          : NoneType\n",
       "    rhos         : NoneType\n",
       "    Sigma        : NoneType\n",
       "    SigmaFloor   : NoneType\n",
       "    St           : NoneType\n",
       "  -----"
      ]
     },
     "execution_count": 8,
     "metadata": {},
     "output_type": "execute_result"
    }
   ],
   "source": [
    "# Change dust params\n",
    "\n",
    "sim.dust"
   ]
  },
  {
   "cell_type": "code",
   "execution_count": 6,
   "metadata": {},
   "outputs": [],
   "source": [
    "# Change dust.coagulation params\n",
    "\n",
    "sim.dust.p.frag"
   ]
  },
  {
   "cell_type": "code",
   "execution_count": null,
   "metadata": {},
   "outputs": [],
   "source": []
  }
 ],
 "metadata": {
  "kernelspec": {
   "display_name": "mlenv",
   "language": "python",
   "name": "python3"
  },
  "language_info": {
   "codemirror_mode": {
    "name": "ipython",
    "version": 3
   },
   "file_extension": ".py",
   "mimetype": "text/x-python",
   "name": "python",
   "nbconvert_exporter": "python",
   "pygments_lexer": "ipython3",
   "version": "3.11.5"
  }
 },
 "nbformat": 4,
 "nbformat_minor": 2
}
